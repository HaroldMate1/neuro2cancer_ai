{
 "cells": [
  {
   "cell_type": "code",
   "execution_count": null,
   "metadata": {},
   "outputs": [],
   "source": [
    "\n",
    "---\n",
    "\n",
    "## 🌟 Extra Credit (Optional)\n",
    "\n",
    "- **Explainability**: Integrate SHAP or Captum.\n",
    "- **CI/CD**: Use GitHub Actions for testing & Docker containers for deployment.\n",
    "\n",
    "Example GitHub Action (`.github/workflows/tests.yml`):\n",
    "```yaml\n",
    "name: Unit Tests\n",
    "\n",
    "on: [push]\n",
    "\n",
    "jobs:\n",
    "  build:\n",
    "    runs-on: ubuntu-latest\n",
    "    steps:\n",
    "      - uses: actions/checkout@v3\n",
    "      - uses: actions/setup-python@v4\n",
    "        with:\n",
    "          python-version: '3.11'\n",
    "      - run: pip install -r requirements.txt\n",
    "      - run: pytest tests/\n"
   ]
  }
 ],
 "metadata": {
  "language_info": {
   "name": "python"
  }
 },
 "nbformat": 4,
 "nbformat_minor": 2
}
